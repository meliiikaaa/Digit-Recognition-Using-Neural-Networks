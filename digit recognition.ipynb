{
  "cells": [
    {
      "cell_type": "markdown",
      "metadata": {
        "id": "kBOiSfZXZ_o7"
      },
      "source": [
        "\n",
        "# Multiclass Clasification Using Neural Networks\n",
        "\n",
        "\n",
        "The goal is to recognize the number inside each photo"
      ]
    },
    {
      "cell_type": "code",
      "execution_count": 1,
      "metadata": {},
      "outputs": [],
      "source": [
        "import tensorflow as tf\n",
        "from tensorflow import keras\n",
        "from keras.layers import Dense\n",
        "from keras.models import Sequential\n",
        "from keras.activations import sigmoid , relu\n",
        "from keras.losses import SparseCategoricalCrossentropy\n",
        "from keras.optimizers import Adam\n",
        "from sklearn.model_selection import train_test_split\n",
        "\n",
        "import scipy.io as sio\n",
        "import numpy as np\n",
        "import matplotlib.pyplot as plt\n",
        "from scipy.io import loadmat\n",
        "data = loadmat(r\"MNIST.mat\")\n",
        "\n",
        "from sklearn.model_selection import train_test_split\n",
        "from sklearn.preprocessing import StandardScaler"
      ]
    },
    {
      "cell_type": "code",
      "execution_count": 3,
      "metadata": {},
      "outputs": [
        {
          "name": "stdout",
          "output_type": "stream",
          "text": [
            "dict_keys(['__header__', '__version__', '__globals__', 'X', 'y'])\n"
          ]
        }
      ],
      "source": [
        "print(data.keys())"
      ]
    },
    {
      "cell_type": "code",
      "execution_count": 4,
      "metadata": {},
      "outputs": [],
      "source": [
        "# Access data from the .mat file\n",
        "x = data['X']\n",
        "y = data['y'] \n",
        "\n",
        "# Convert the data to NumPy arrays for easier manipulation\n",
        "x = np.array(x)\n",
        "y = np.array(y)\n"
      ]
    },
    {
      "cell_type": "code",
      "execution_count": 10,
      "metadata": {
        "colab": {
          "base_uri": "https://localhost:8080/",
          "height": 195
        },
        "id": "83NBRgD6kdih",
        "outputId": "0d05cd0b-fe00-42e3-977d-1b0655ecc6b8"
      },
      "outputs": [
        {
          "data": {
            "text/plain": [
              "Text(0.5, 1.0, '[0]')"
            ]
          },
          "execution_count": 10,
          "metadata": {},
          "output_type": "execute_result"
        },
        {
          "data": {
            "image/png": "[encoded data removed]",
            "text/plain": [
              "<Figure size 4000x200 with 1 Axes>"
            ]
          },
          "metadata": {},
          "output_type": "display_data"
        }
      ],
      "source": [
        "\n",
        "# choose the index of image to show out of 5000 images\n",
        "idx = 75\n",
        "\n",
        "# choose figure size\n",
        "plt.figure(figsize=(40,2))\n",
        "\n",
        "# convert shape of iamge from (400,) to (20, 20) and display it\n",
        "plt.imshow(np.reshape(x[idx], (20, 20)).T, cmap='gray')\n",
        "\n",
        "# add the label of image as the title of figure\n",
        "plt.title(str(y[idx]), fontsize = 30)\n",
        "\n"
      ]
    },
    {
      "cell_type": "code",
      "execution_count": 11,
      "metadata": {
        "colab": {
          "base_uri": "https://localhost:8080/"
        },
        "id": "qn_HRnyRm4Yv",
        "outputId": "f727d558-f471-4712-d8c8-2a01ce67ce66"
      },
      "outputs": [
        {
          "name": "stdout",
          "output_type": "stream",
          "text": [
            "shape of x: (5000, 400)\n",
            "shape of x[idx]: (400,)\n",
            "shape of y: (5000, 1)\n"
          ]
        }
      ],
      "source": [
        "# print shapes of x and y\n",
        "print(\"shape of x:\", x.shape)\n",
        "print(\"shape of x[idx]:\", x[idx].shape)\n",
        "print(\"shape of y:\", y.shape)\n"
      ]
    },
    {
      "cell_type": "code",
      "execution_count": 12,
      "metadata": {},
      "outputs": [],
      "source": [
        "\n",
        "# shuffle and then Split the data into train and test sets\n",
        "X_train, X_test, Y_train, Y_test = train_test_split(x, y, test_size=0.2, random_state=42 , shuffle=True)\n",
        "\n",
        "# Scale the data\n",
        "scaler = StandardScaler()\n",
        "X_train = scaler.fit_transform(X_train)\n",
        "X_test = scaler.transform(X_test)"
      ]
    },
    {
      "cell_type": "code",
      "execution_count": 13,
      "metadata": {},
      "outputs": [
        {
          "name": "stdout",
          "output_type": "stream",
          "text": [
            "shape of X_train: (4000, 400)\n",
            "shape of Y_train: (4000, 1)\n",
            "shape of X_test: (1000, 400)\n",
            "shape of Y_test: (1000, 1)\n"
          ]
        }
      ],
      "source": [
        "# printing the shapes of X and Y train and test\n",
        "print(\"shape of X_train:\", X_train.shape)\n",
        "print(\"shape of Y_train:\", Y_train.shape)\n",
        "print(\"shape of X_test:\", X_test.shape)\n",
        "print(\"shape of Y_test:\", Y_test.shape)"
      ]
    },
    {
      "cell_type": "code",
      "execution_count": 14,
      "metadata": {
        "id": "pzGkIj5f79HC"
      },
      "outputs": [
        {
          "name": "stdout",
          "output_type": "stream",
          "text": [
            "Epoch 1/100\n",
            "125/125 [==============================] - 1s 4ms/step - loss: 0.6621\n",
            "Epoch 2/100\n",
            "125/125 [==============================] - 0s 3ms/step - loss: 0.1794\n",
            "Epoch 3/100\n",
            "125/125 [==============================] - 0s 3ms/step - loss: 0.0935\n",
            "Epoch 4/100\n",
            "125/125 [==============================] - 0s 3ms/step - loss: 0.0533\n",
            "Epoch 5/100\n",
            "125/125 [==============================] - 0s 3ms/step - loss: 0.0341\n",
            "Epoch 6/100\n",
            "125/125 [==============================] - 0s 3ms/step - loss: 0.0170\n",
            "Epoch 7/100\n",
            "125/125 [==============================] - 0s 3ms/step - loss: 0.0103\n",
            "Epoch 8/100\n",
            "125/125 [==============================] - 0s 3ms/step - loss: 0.0073\n",
            "Epoch 9/100\n",
            "125/125 [==============================] - 0s 3ms/step - loss: 0.0046\n",
            "Epoch 10/100\n",
            "125/125 [==============================] - 0s 3ms/step - loss: 0.0036\n",
            "Epoch 11/100\n",
            "125/125 [==============================] - 0s 3ms/step - loss: 0.0028\n",
            "Epoch 12/100\n",
            "125/125 [==============================] - 0s 3ms/step - loss: 0.0023\n",
            "Epoch 13/100\n",
            "125/125 [==============================] - 0s 3ms/step - loss: 0.0019\n",
            "Epoch 14/100\n",
            "125/125 [==============================] - 0s 3ms/step - loss: 0.0016\n",
            "Epoch 15/100\n",
            "125/125 [==============================] - 0s 3ms/step - loss: 0.0013\n",
            "Epoch 16/100\n",
            "125/125 [==============================] - 0s 3ms/step - loss: 0.0011\n",
            "Epoch 17/100\n",
            "125/125 [==============================] - 0s 3ms/step - loss: 9.9133e-04\n",
            "Epoch 18/100\n",
            "125/125 [==============================] - 0s 3ms/step - loss: 8.5559e-04\n",
            "Epoch 19/100\n",
            "125/125 [==============================] - 0s 3ms/step - loss: 7.4511e-04\n",
            "Epoch 20/100\n",
            "125/125 [==============================] - 0s 3ms/step - loss: 6.6202e-04\n",
            "Epoch 21/100\n",
            "125/125 [==============================] - 0s 3ms/step - loss: 5.8201e-04\n",
            "Epoch 22/100\n",
            "125/125 [==============================] - 0s 3ms/step - loss: 5.2453e-04\n",
            "Epoch 23/100\n",
            "125/125 [==============================] - 0s 3ms/step - loss: 4.6204e-04\n",
            "Epoch 24/100\n",
            "125/125 [==============================] - 0s 3ms/step - loss: 4.1556e-04\n",
            "Epoch 25/100\n",
            "125/125 [==============================] - 0s 3ms/step - loss: 3.7640e-04\n",
            "Epoch 26/100\n",
            "125/125 [==============================] - 0s 3ms/step - loss: 3.3661e-04\n",
            "Epoch 27/100\n",
            "125/125 [==============================] - 0s 3ms/step - loss: 3.0597e-04\n",
            "Epoch 28/100\n",
            "125/125 [==============================] - 0s 3ms/step - loss: 2.7355e-04\n",
            "Epoch 29/100\n",
            "125/125 [==============================] - 0s 3ms/step - loss: 2.4894e-04\n",
            "Epoch 30/100\n",
            "125/125 [==============================] - 0s 3ms/step - loss: 2.2634e-04\n",
            "Epoch 31/100\n",
            "125/125 [==============================] - 0s 3ms/step - loss: 2.0572e-04\n",
            "Epoch 32/100\n",
            "125/125 [==============================] - 0s 2ms/step - loss: 1.8710e-04\n",
            "Epoch 33/100\n",
            "125/125 [==============================] - 0s 2ms/step - loss: 1.7026e-04\n",
            "Epoch 34/100\n",
            "125/125 [==============================] - 0s 2ms/step - loss: 1.5531e-04\n",
            "Epoch 35/100\n",
            "125/125 [==============================] - 0s 2ms/step - loss: 1.4280e-04\n",
            "Epoch 36/100\n",
            "125/125 [==============================] - 0s 2ms/step - loss: 1.3076e-04\n",
            "Epoch 37/100\n",
            "125/125 [==============================] - 0s 2ms/step - loss: 1.1897e-04\n",
            "Epoch 38/100\n",
            "125/125 [==============================] - 0s 2ms/step - loss: 1.1001e-04\n",
            "Epoch 39/100\n",
            "125/125 [==============================] - 0s 2ms/step - loss: 1.0067e-04\n",
            "Epoch 40/100\n",
            "125/125 [==============================] - 0s 2ms/step - loss: 9.2234e-05\n",
            "Epoch 41/100\n",
            "125/125 [==============================] - 0s 2ms/step - loss: 8.5996e-05\n",
            "Epoch 42/100\n",
            "125/125 [==============================] - 0s 3ms/step - loss: 7.8414e-05\n",
            "Epoch 43/100\n",
            "125/125 [==============================] - 0s 3ms/step - loss: 7.3031e-05\n",
            "Epoch 44/100\n",
            "125/125 [==============================] - 0s 3ms/step - loss: 6.6676e-05\n",
            "Epoch 45/100\n",
            "125/125 [==============================] - 0s 3ms/step - loss: 6.1564e-05\n",
            "Epoch 46/100\n",
            "125/125 [==============================] - 0s 3ms/step - loss: 5.6512e-05\n",
            "Epoch 47/100\n",
            "125/125 [==============================] - 0s 3ms/step - loss: 5.2726e-05\n",
            "Epoch 48/100\n",
            "125/125 [==============================] - 0s 3ms/step - loss: 4.8476e-05\n",
            "Epoch 49/100\n",
            "125/125 [==============================] - 0s 3ms/step - loss: 4.4612e-05\n",
            "Epoch 50/100\n",
            "125/125 [==============================] - 0s 3ms/step - loss: 4.1259e-05\n",
            "Epoch 51/100\n",
            "125/125 [==============================] - 0s 3ms/step - loss: 3.8594e-05\n",
            "Epoch 52/100\n",
            "125/125 [==============================] - 0s 3ms/step - loss: 3.5553e-05\n",
            "Epoch 53/100\n",
            "125/125 [==============================] - 0s 3ms/step - loss: 3.2834e-05\n",
            "Epoch 54/100\n",
            "125/125 [==============================] - 0s 3ms/step - loss: 3.0332e-05\n",
            "Epoch 55/100\n",
            "125/125 [==============================] - 0s 3ms/step - loss: 2.8000e-05\n",
            "Epoch 56/100\n",
            "125/125 [==============================] - 0s 3ms/step - loss: 2.5985e-05\n",
            "Epoch 57/100\n",
            "125/125 [==============================] - 0s 3ms/step - loss: 2.4069e-05\n",
            "Epoch 58/100\n",
            "125/125 [==============================] - 0s 3ms/step - loss: 2.2247e-05\n",
            "Epoch 59/100\n",
            "125/125 [==============================] - 0s 3ms/step - loss: 2.0715e-05\n",
            "Epoch 60/100\n",
            "125/125 [==============================] - 0s 3ms/step - loss: 1.9264e-05\n",
            "Epoch 61/100\n",
            "125/125 [==============================] - 0s 3ms/step - loss: 1.7673e-05\n",
            "Epoch 62/100\n",
            "125/125 [==============================] - 0s 3ms/step - loss: 1.6565e-05\n",
            "Epoch 63/100\n",
            "125/125 [==============================] - 0s 3ms/step - loss: 1.5380e-05\n",
            "Epoch 64/100\n",
            "125/125 [==============================] - 0s 3ms/step - loss: 1.4254e-05\n",
            "Epoch 65/100\n",
            "125/125 [==============================] - 0s 3ms/step - loss: 1.3225e-05\n",
            "Epoch 66/100\n",
            "125/125 [==============================] - 0s 3ms/step - loss: 1.2323e-05\n",
            "Epoch 67/100\n",
            "125/125 [==============================] - 0s 3ms/step - loss: 1.1407e-05\n",
            "Epoch 68/100\n",
            "125/125 [==============================] - 0s 3ms/step - loss: 1.0556e-05\n",
            "Epoch 69/100\n",
            "125/125 [==============================] - 0s 3ms/step - loss: 9.8480e-06\n",
            "Epoch 70/100\n",
            "125/125 [==============================] - 0s 3ms/step - loss: 9.1785e-06\n",
            "Epoch 71/100\n",
            "125/125 [==============================] - 0s 3ms/step - loss: 8.4759e-06\n",
            "Epoch 72/100\n",
            "125/125 [==============================] - 0s 3ms/step - loss: 7.9037e-06\n",
            "Epoch 73/100\n",
            "125/125 [==============================] - 0s 3ms/step - loss: 7.3394e-06\n",
            "Epoch 74/100\n",
            "125/125 [==============================] - 0s 3ms/step - loss: 6.8932e-06\n",
            "Epoch 75/100\n",
            "125/125 [==============================] - 0s 3ms/step - loss: 6.3664e-06\n",
            "Epoch 76/100\n",
            "125/125 [==============================] - 0s 3ms/step - loss: 5.9336e-06\n",
            "Epoch 77/100\n",
            "125/125 [==============================] - 0s 3ms/step - loss: 5.4903e-06\n",
            "Epoch 78/100\n",
            "125/125 [==============================] - 0s 3ms/step - loss: 5.1053e-06\n",
            "Epoch 79/100\n",
            "125/125 [==============================] - 0s 3ms/step - loss: 4.7264e-06\n",
            "Epoch 80/100\n",
            "125/125 [==============================] - 0s 3ms/step - loss: 4.4440e-06\n",
            "Epoch 81/100\n",
            "125/125 [==============================] - 0s 3ms/step - loss: 4.1381e-06\n",
            "Epoch 82/100\n",
            "125/125 [==============================] - 0s 3ms/step - loss: 3.8433e-06\n",
            "Epoch 83/100\n",
            "125/125 [==============================] - 0s 3ms/step - loss: 3.5766e-06\n",
            "Epoch 84/100\n",
            "125/125 [==============================] - 0s 3ms/step - loss: 3.3225e-06\n",
            "Epoch 85/100\n",
            "125/125 [==============================] - 0s 3ms/step - loss: 3.1068e-06\n",
            "Epoch 86/100\n",
            "125/125 [==============================] - 0s 3ms/step - loss: 2.8955e-06\n",
            "Epoch 87/100\n",
            "125/125 [==============================] - 0s 3ms/step - loss: 2.6918e-06\n",
            "Epoch 88/100\n",
            "125/125 [==============================] - 0s 3ms/step - loss: 2.5068e-06\n",
            "Epoch 89/100\n",
            "125/125 [==============================] - 0s 3ms/step - loss: 2.3350e-06\n",
            "Epoch 90/100\n",
            "125/125 [==============================] - 0s 3ms/step - loss: 2.1829e-06\n",
            "Epoch 91/100\n",
            "125/125 [==============================] - 0s 3ms/step - loss: 2.0192e-06\n",
            "Epoch 92/100\n",
            "125/125 [==============================] - 0s 3ms/step - loss: 1.8883e-06\n",
            "Epoch 93/100\n",
            "125/125 [==============================] - 0s 3ms/step - loss: 1.7618e-06\n",
            "Epoch 94/100\n",
            "125/125 [==============================] - 0s 3ms/step - loss: 1.6315e-06\n",
            "Epoch 95/100\n",
            "125/125 [==============================] - 0s 3ms/step - loss: 1.5205e-06\n",
            "Epoch 96/100\n",
            "125/125 [==============================] - 0s 3ms/step - loss: 1.4266e-06\n",
            "Epoch 97/100\n",
            "125/125 [==============================] - 0s 3ms/step - loss: 1.3279e-06\n",
            "Epoch 98/100\n",
            "125/125 [==============================] - 0s 3ms/step - loss: 1.2357e-06\n",
            "Epoch 99/100\n",
            "125/125 [==============================] - 0s 3ms/step - loss: 1.1577e-06\n",
            "Epoch 100/100\n",
            "125/125 [==============================] - 0s 3ms/step - loss: 1.0762e-06\n"
          ]
        },
        {
          "data": {
            "text/plain": [
              "<keras.src.callbacks.History at 0x1f2ba438880>"
            ]
          },
          "execution_count": 14,
          "metadata": {},
          "output_type": "execute_result"
        }
      ],
      "source": [
        "# we are implementing a 3 layer neural network\n",
        "\n",
        "model = Sequential ([\n",
        "    Dense(400 , activation = \"relu\" , name = \"input_layer\"),\n",
        "    Dense(25 , activation = \"relu\" , name = \"hidden_layer\"),\n",
        "    Dense(10 , activation = \"softmax\" , name = \"output_layer\")]\n",
        ")\n",
        "\n",
        "###########################################################################################\n",
        "\n",
        "model.compile(\n",
        "    optimizer = Adam(1e-3) ,\n",
        "    loss = SparseCategoricalCrossentropy())\n",
        "\n",
        "############################################################################################\n",
        "\n",
        "model.fit(X_train,Y_train,epochs=100)\n",
        "  "
      ]
    },
    {
      "cell_type": "code",
      "execution_count": 15,
      "metadata": {
        "id": "c8n8OQhgXLhs"
      },
      "outputs": [
        {
          "name": "stdout",
          "output_type": "stream",
          "text": [
            "Model: \"sequential\"\n",
            "_________________________________________________________________\n",
            " Layer (type)                Output Shape              Param #   \n",
            "=================================================================\n",
            " input_layer (Dense)         (32, 400)                 160400    \n",
            "                                                                 \n",
            " hidden_layer (Dense)        (32, 25)                  10025     \n",
            "                                                                 \n",
            " output_layer (Dense)        (32, 10)                  260       \n",
            "                                                                 \n",
            "=================================================================\n",
            "Total params: 170685 (666.74 KB)\n",
            "Trainable params: 170685 (666.74 KB)\n",
            "Non-trainable params: 0 (0.00 Byte)\n",
            "_________________________________________________________________\n"
          ]
        }
      ],
      "source": [
        "model.summary()"
      ]
    },
    {
      "cell_type": "code",
      "execution_count": 23,
      "metadata": {},
      "outputs": [],
      "source": [
        "our_num=int(input(\"please choose the number out of 1000 images to predict : \" ))"
      ]
    },
    {
      "cell_type": "code",
      "execution_count": 24,
      "metadata": {},
      "outputs": [
        {
          "name": "stdout",
          "output_type": "stream",
          "text": [
            "32/32 [==============================] - 0s 1ms/step\n",
            "[4.4816607e-20 2.4624389e-25 1.7451327e-24 5.5583849e-18 4.6975953e-22\n",
            " 4.6546418e-22 7.0853243e-25 1.0000000e+00 3.2704475e-19 2.8537394e-14]\n"
          ]
        }
      ],
      "source": [
        "# Make predictions\n",
        "\n",
        "# as we know the test size is 1000\n",
        "Y_pred = model.predict(X_test)\n",
        "print(Y_pred[our_num])\n",
        "#the outcome should be a probability"
      ]
    },
    {
      "cell_type": "code",
      "execution_count": 25,
      "metadata": {},
      "outputs": [
        {
          "name": "stdout",
          "output_type": "stream",
          "text": [
            "predicted digit:  7\n"
          ]
        }
      ],
      "source": [
        "#lets see what is the highest probability\n",
        "predicted_digit = np.argmax(Y_pred[our_num])\n",
        "print(\"predicted digit: \", predicted_digit)"
      ]
    },
    {
      "cell_type": "code",
      "execution_count": 26,
      "metadata": {
        "colab": {
          "base_uri": "https://localhost:8080/",
          "height": 195
        },
        "id": "e-xwKV_5WNrR",
        "outputId": "fdc379a8-bc9e-4bce-f478-7d49cd1bf370"
      },
      "outputs": [
        {
          "name": "stdout",
          "output_type": "stream",
          "text": [
            "the real number was : \n"
          ]
        },
        {
          "data": {
            "text/plain": [
              "Text(0.5, 1.0, '[7]')"
            ]
          },
          "execution_count": 26,
          "metadata": {},
          "output_type": "execute_result"
        },
        {
          "data": {
            "image/png": "[encoded data removed]",
            "text/plain": [
              "<Figure size 2000x200 with 1 Axes>"
            ]
          },
          "metadata": {},
          "output_type": "display_data"
        }
      ],
      "source": [
        "#lets see if the predicted digit is right\n",
        "\n",
        "#choose figure size\n",
        "print(\"the real number was : \")\n",
        "plt.figure(figsize=(20,2))\n",
        "\n",
        "#convert shape of iamge from (400,) to (20, 20) and display it\n",
        "plt.imshow(np.reshape(X_test[our_num], (20, 20)).T, cmap='gray')\n",
        "\n",
        "#add the label of image as the title of figure\n",
        "plt.title(str(Y_test[our_num]), fontsize = 20)\n",
        "\n"
      ]
    },
    {
      "cell_type": "code",
      "execution_count": 28,
      "metadata": {},
      "outputs": [
        {
          "name": "stdout",
          "output_type": "stream",
          "text": [
            "32/32 [==============================] - 0s 2ms/step\n",
            "Percent of Accuracy :  84.0\n"
          ]
        }
      ],
      "source": [
        "# lets calculate the accuracy of our model\n",
        "Y_pred2 = model.predict(X_test)\n",
        "\n",
        "accuracy = np.sum(Y_pred2 == Y_test) / len(Y_test)\n",
        "print(\"Percent of Accuracy : \", accuracy*1000)"
      ]
    }
  ],
  "metadata": {
    "colab": {
      "authorship_tag": "ABX9TyOsnRSIsaqARRKCTYkkDSGv",
      "collapsed_sections": [],
      "include_colab_link": true,
      "mount_file_id": "1ddfyGgKcCOQYsUjiLzlGvPQ5QvZzmD1B",
      "name": "ML-course-project-5-neural network multiclass classification.ipynb",
      "provenance": []
    },
    "kernelspec": {
      "display_name": "Python 3",
      "name": "python3"
    },
    "language_info": {
      "codemirror_mode": {
        "name": "ipython",
        "version": 3
      },
      "file_extension": ".py",
      "mimetype": "text/x-python",
      "name": "python",
      "nbconvert_exporter": "python",
      "pygments_lexer": "ipython3",
      "version": "3.10.4"
    }
  },
  "nbformat": 4,
  "nbformat_minor": 0
}
